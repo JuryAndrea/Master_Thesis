{
 "cells": [
  {
   "cell_type": "markdown",
   "metadata": {},
   "source": [
    "This file is used to plot information about loss, pearson, $R^2$, accuracy"
   ]
  },
  {
   "cell_type": "code",
   "execution_count": 1,
   "metadata": {},
   "outputs": [],
   "source": [
    "import seaborn as sns\n",
    "import matplotlib.pyplot as plt\n",
    "import pandas as pd\n",
    "import numpy as np"
   ]
  },
  {
   "cell_type": "markdown",
   "metadata": {},
   "source": [
    "### FPS vs ACCURACY"
   ]
  },
  {
   "cell_type": "code",
   "execution_count": null,
   "metadata": {},
   "outputs": [],
   "source": [
    "figure, ax = plt.subplots(figsize=(10, 8))\n",
    "ax.axhline(y=0.40, color='r', linestyle='--')\n",
    "plt.grid(True)\n",
    "plt.title('FPS vs Accuracy')\n",
    "plt.xlabel('FPS')\n",
    "plt.xlim(0, 45)\n",
    "plt.ylim(0.0, 1.05)\n",
    "plt.yticks(np.arange(0.0, 1.05, 0.05))\n",
    "plt.ylabel('Accuracy')\n",
    "\n",
    "fps_imav_baseline = 18\n",
    "accuracy_imav_baseline = 0.59\n",
    "ax.plot(fps_imav_baseline, accuracy_imav_baseline, label='IMAV Mid Fusion', markersize=15, color='purple', marker='d') \n",
    "\n",
    "fps_imav_mid_fusion = 18\n",
    "accuracy_imav_mid_fusion = 0.67\n",
    "ax.plot(fps_imav_mid_fusion, accuracy_imav_mid_fusion, label='IMAV Mid Fusion', markersize=15, marker='o', color='purple') \n",
    "\n",
    "fps_unet_baseline = 21\n",
    "accuracy_unet_baseline = 0.63\n",
    "ax.plot(fps_unet_baseline, accuracy_unet_baseline, label='U-Net Baseline', markersize=15, color='orange', marker='d') \n",
    "\n",
    "fps_unet_fusion = 21\n",
    "accuracy_unet_fusion = 0.67\n",
    "ax.plot(fps_unet_fusion, accuracy_unet_fusion, label='U-Net Fusion', markersize=15, color='orange', marker='o') \n",
    "\n",
    "fps_fcnn_baseline = 40\n",
    "accuracy_fcnn_baseline = 0.59\n",
    "ax.plot(fps_fcnn_baseline, accuracy_fcnn_baseline, label='FCNN Fusion', markersize=15, color='lightseagreen', marker='d') \n",
    "\n",
    "fps_fcnn_fusion = 37\n",
    "accuracy_fcnn_fusion = 0.65\n",
    "ax.plot(fps_fcnn_fusion, accuracy_fcnn_fusion, label='FCNN Fusion', markersize=15, color='lightseagreen', marker='o')\n",
    "\n",
    "plt.legend(['Trivial Predictor', 'IMAV Baseline', 'IMAV Mid Fusion', 'U-Net Baseline', 'U-Net Fusion', 'FCNN Baseline', 'FCNN Fusion'], loc='center left', bbox_to_anchor=(1, 0.5))\n",
    "\n",
    "plt.rcParams.update({'font.size': 14})"
   ]
  },
  {
   "cell_type": "code",
   "execution_count": null,
   "metadata": {},
   "outputs": [],
   "source": [
    "# same as above but with different y limits for better visualization\n",
    "\n",
    "figure, ax = plt.subplots(figsize=(10, 8))\n",
    "ax.axhline(y=0.40, color='r', linestyle='--')\n",
    "plt.grid(True)\n",
    "plt.title('FPS vs Accuracy')\n",
    "plt.xlabel('FPS')\n",
    "plt.xlim(0, 45)\n",
    "plt.ylim(0.35, 0.7)\n",
    "plt.yticks(np.arange(0.35, 0.7, 0.05))\n",
    "plt.ylabel('Accuracy')\n",
    "\n",
    "fps_imav_baseline = 18\n",
    "accuracy_imav_baseline = 0.59\n",
    "ax.plot(fps_imav_baseline, accuracy_imav_baseline, label='IMAV Mid Fusion', markersize=15, color='purple', marker='d') \n",
    "\n",
    "fps_imav_mid_fusion = 18\n",
    "accuracy_imav_mid_fusion = 0.67\n",
    "ax.plot(fps_imav_mid_fusion, accuracy_imav_mid_fusion, label='IMAV Mid Fusion', markersize=15, marker='o', color='purple') \n",
    "\n",
    "fps_unet_baseline = 21\n",
    "accuracy_unet_baseline = 0.63\n",
    "ax.plot(fps_unet_baseline, accuracy_unet_baseline, label='U-Net Baseline', markersize=15, color='orange', marker='d') \n",
    "\n",
    "fps_unet_fusion = 21\n",
    "accuracy_unet_fusion = 0.67\n",
    "ax.plot(fps_unet_fusion, accuracy_unet_fusion, label='U-Net Fusion', markersize=15, color='orange', marker='o') \n",
    "\n",
    "fps_fcnn_baseline = 40\n",
    "accuracy_fcnn_baseline = 0.59\n",
    "ax.plot(fps_fcnn_baseline, accuracy_fcnn_baseline, label='FCNN Fusion', markersize=15, color='lightseagreen', marker='d') \n",
    "\n",
    "fps_fcnn_fusion = 37\n",
    "accuracy_fcnn_fusion = 0.65\n",
    "ax.plot(fps_fcnn_fusion, accuracy_fcnn_fusion, label='FCNN Fusion', markersize=15, color='lightseagreen', marker='o')\n",
    "\n",
    "plt.legend(['Trivial Predictor', 'IMAV Baseline', 'IMAV Mid Fusion', 'U-Net Baseline', 'U-Net Fusion', 'FCNN Baseline', 'FCNN Fusion'], loc='center left', bbox_to_anchor=(1, 0.5))\n",
    "\n",
    "plt.rcParams.update({'font.size': 14})"
   ]
  },
  {
   "cell_type": "markdown",
   "metadata": {},
   "source": [
    "## LOSS FUNCTION"
   ]
  },
  {
   "cell_type": "code",
   "execution_count": 2,
   "metadata": {},
   "outputs": [],
   "source": [
    "# load data\n",
    "loss_train = pd.read_csv('data/loss_train.csv')\n",
    "loss_val = pd.read_csv('data/loss_val.csv')"
   ]
  },
  {
   "cell_type": "code",
   "execution_count": 3,
   "metadata": {},
   "outputs": [],
   "source": [
    "#  select columns\n",
    "loss_train = loss_train[[\"Epoch\", \"UNet_Late_Fusion_ultrasound - Loss/Train\", \"UNet_Mid_Fusion_ultrasound - Loss/Train\", \"UNet_no_ultrasound - Loss/Train\", \"IMAV_Late_Fusion_ultrasound - Loss/Train\", \"IMAV_Mid_Fusion_ultrasound - Loss/Train\", \"IMAV_no_ultrasound - Loss/Train\", \"FCNN_Late_Fusion_ultrasound - Loss/Train\", \"FCNN_Mid_Fusion_ultrasound - Loss/Train\", \"FCNN_no_ultrasound - Loss/Train\"]]\n",
    "loss_val = loss_val[[\"Epoch\", \"UNet_Late_Fusion_ultrasound - Loss/Val\", \"UNet_Mid_Fusion_ultrasound - Loss/Val\", \"UNet_no_ultrasound - Loss/Val\", \"IMAV_Late_Fusion_ultrasound - Loss/Val\", \"IMAV_Mid_Fusion_ultrasound - Loss/Val\", \"IMAV_no_ultrasound - Loss/Val\", \"FCNN_Late_Fusion_ultrasound - Loss/Val\", \"FCNN_Mid_Fusion_ultrasound - Loss/Val\", \"FCNN_no_ultrasound - Loss/Val\"]]"
   ]
  },
  {
   "cell_type": "code",
   "execution_count": 4,
   "metadata": {},
   "outputs": [],
   "source": [
    "# rename columns\n",
    "loss_train = loss_train.rename(columns={\"UNet_Late_Fusion_ultrasound - Loss/Train\": \"UNet Late Fusion Train Loss\", \"UNet_Mid_Fusion_ultrasound - Loss/Train\": \"UNet Mid Fusion Train Loss\", \"UNet_no_ultrasound - Loss/Train\": \"UNet Train Loss\", \"IMAV_Late_Fusion_ultrasound - Loss/Train\": \"IMAV Late Fusion Train Loss\", \"IMAV_Mid_Fusion_ultrasound - Loss/Train\": \"IMAV Mid Fusion Train Loss\", \"IMAV_no_ultrasound - Loss/Train\": \"IMAV Train Loss\", \"FCNN_Late_Fusion_ultrasound - Loss/Train\": \"FCNN Late Fusion Train Loss\", \"FCNN_Mid_Fusion_ultrasound - Loss/Train\": \"FCNN Mid Fusion Train Loss\", \"FCNN_no_ultrasound - Loss/Train\": \"FCNN Train Loss\"})\n",
    "loss_val = loss_val.rename(columns={\"UNet_Late_Fusion_ultrasound - Loss/Val\": \"UNet Late Fusion Val Loss\", \"UNet_Mid_Fusion_ultrasound - Loss/Val\": \"UNet Mid Fusion Val Loss\", \"UNet_no_ultrasound - Loss/Val\": \"UNet Val Loss\", \"IMAV_Late_Fusion_ultrasound - Loss/Val\": \"IMAV Late Fusion Val Loss\", \"IMAV_Mid_Fusion_ultrasound - Loss/Val\": \"IMAV Mid Fusion Val Loss\", \"IMAV_no_ultrasound - Loss/Val\": \"IMAV Val Loss\", \"FCNN_Late_Fusion_ultrasound - Loss/Val\": \"FCNN Late Fusion Val Loss\", \"FCNN_Mid_Fusion_ultrasound - Loss/Val\": \"FCNN Mid Fusion Val Loss\", \"FCNN_no_ultrasound - Loss/Val\": \"FCNN Val Loss\"})"
   ]
  },
  {
   "cell_type": "code",
   "execution_count": 5,
   "metadata": {},
   "outputs": [],
   "source": [
    "# merge dataframes on epoch column\n",
    "df =pd.merge(loss_train, loss_val, on=\"Epoch\")"
   ]
  },
  {
   "cell_type": "code",
   "execution_count": null,
   "metadata": {},
   "outputs": [],
   "source": [
    "# plot unet training and validation loss\n",
    "fig, ax = plt.subplots(figsize=(12, 6))\n",
    "df.plot(x=\"Epoch\", y=[\"UNet Late Fusion Train Loss\", \"UNet Mid Fusion Train Loss\", \"UNet Train Loss\",], ax=ax)\n",
    "df.plot(x=\"Epoch\", y=[\"UNet Late Fusion Val Loss\", \"UNet Mid Fusion Val Loss\", \"UNet Val Loss\"], ax=ax)\n",
    "plt.title(\"UNet - Training and Validation Loss over Epochs\")\n",
    "ax.set_xlabel(\"Epochs\")\n",
    "ax.set_ylabel(\"Batch Mean L1 Loss\")\n",
    "plt.grid()\n",
    "plt.ylim(0.1, 0.5)\n",
    "plt.rcParams.update({'font.size': 10})\n",
    "\n",
    "min_index1 = df[\"UNet Late Fusion Val Loss\"].min()\n",
    "min_index2 = df[\"UNet Mid Fusion Val Loss\"].min()\n",
    "min_index3 = df[\"UNet Val Loss\"].min()\n",
    "\n",
    "print(min_index1, min_index2, min_index3)\n",
    "\n",
    "epoch1 = df[df[\"UNet Late Fusion Val Loss\"] == min_index1].Epoch.values[0]\n",
    "epoch2 = df[df[\"UNet Mid Fusion Val Loss\"] == min_index2].Epoch.values[0]\n",
    "epoch3 = df[df[\"UNet Val Loss\"] == min_index3].Epoch.values[0]\n",
    "\n",
    "print(epoch1, epoch2, epoch3)\n",
    "\n",
    "plt.plot(epoch1, min_index1, 'D', color='crimson')\n",
    "plt.plot(epoch2, min_index2, 'D', color='mediumpurple')\n",
    "plt.plot(epoch3, min_index3, 'D', color='saddlebrown')"
   ]
  },
  {
   "cell_type": "code",
   "execution_count": null,
   "metadata": {},
   "outputs": [],
   "source": [
    "# plot FCNN training and validation loss\n",
    "fig, ax = plt.subplots(figsize=(12, 6))\n",
    "df.plot(x=\"Epoch\", y=[\"FCNN Late Fusion Train Loss\", \"FCNN Mid Fusion Train Loss\", \"FCNN Train Loss\",], ax=ax)\n",
    "df.plot(x=\"Epoch\", y=[\"FCNN Late Fusion Val Loss\", \"FCNN Mid Fusion Val Loss\", \"FCNN Val Loss\"], ax=ax)\n",
    "plt.title(\"FCNN - Training and Validation Loss over Epochs\")\n",
    "ax.set_xlabel(\"Epochs\")\n",
    "ax.set_ylabel(\"Batch Mean L1 Loss\")\n",
    "plt.grid()\n",
    "plt.ylim(0.1, 0.5)\n",
    "plt.rcParams.update({'font.size': 10})\n",
    "\n",
    "min_index1 = df[\"FCNN Late Fusion Val Loss\"].min()\n",
    "min_index2 = df[\"FCNN Mid Fusion Val Loss\"].min()\n",
    "min_index3 = df[\"FCNN Val Loss\"].min()\n",
    "\n",
    "print(min_index1, min_index2, min_index3)\n",
    "\n",
    "epoch1 = df[df[\"FCNN Late Fusion Val Loss\"] == min_index1].Epoch.values[0]\n",
    "epoch2 = df[df[\"FCNN Mid Fusion Val Loss\"] == min_index2].Epoch.values[0]\n",
    "epoch3 = df[df[\"FCNN Val Loss\"] == min_index3].Epoch.values[0]\n",
    "\n",
    "print(epoch1, epoch2, epoch3)\n",
    "\n",
    "plt.plot(epoch1, min_index1, 'D', color='crimson')\n",
    "plt.plot(epoch2, min_index2, 'D', color='mediumpurple')\n",
    "plt.plot(epoch3, min_index3, 'D', color='saddlebrown')"
   ]
  },
  {
   "cell_type": "code",
   "execution_count": null,
   "metadata": {},
   "outputs": [],
   "source": [
    "# plot IMAV training and validation loss\n",
    "fig, ax = plt.subplots(figsize=(12, 6))\n",
    "df.plot(x=\"Epoch\", y=[\"IMAV Late Fusion Train Loss\", \"IMAV Mid Fusion Train Loss\", \"IMAV Train Loss\",], ax=ax)\n",
    "df.plot(x=\"Epoch\", y=[\"IMAV Late Fusion Val Loss\", \"IMAV Mid Fusion Val Loss\", \"IMAV Val Loss\"], ax=ax)\n",
    "plt.title(\"IMAV - Training and Validation Loss over Epochs\")\n",
    "ax.set_xlabel(\"Epochs\")\n",
    "ax.set_ylabel(\"Batch Mean L1 Loss\")\n",
    "plt.grid()\n",
    "plt.rcParams.update({'font.size': 10})\n",
    "\n",
    "min_index1 = df[\"IMAV Late Fusion Val Loss\"].min()\n",
    "min_index2 = df[\"IMAV Mid Fusion Val Loss\"].min()\n",
    "min_index3 = df[\"IMAV Val Loss\"].min()\n",
    "\n",
    "epoch1 = df[df[\"IMAV Late Fusion Val Loss\"] == min_index1].Epoch.values[0]\n",
    "epoch2 = df[df[\"IMAV Mid Fusion Val Loss\"] == min_index2].Epoch.values[0]\n",
    "epoch3 = df[df[\"IMAV Val Loss\"] == min_index3].Epoch.values[0]\n",
    "\n",
    "plt.plot(epoch1, min_index1, 'D', color='crimson')\n",
    "plt.plot(epoch2, min_index2, 'D', color='mediumpurple')\n",
    "plt.plot(epoch3, min_index3, 'D', color='saddlebrown')\n"
   ]
  },
  {
   "cell_type": "markdown",
   "metadata": {},
   "source": [
    "## PEARSON COEFFICIENT ON VALIDATION SET"
   ]
  },
  {
   "cell_type": "code",
   "execution_count": 13,
   "metadata": {},
   "outputs": [],
   "source": [
    "# load data\n",
    "pearson = pd.read_csv('data/pearson.csv')"
   ]
  },
  {
   "cell_type": "code",
   "execution_count": null,
   "metadata": {},
   "outputs": [],
   "source": [
    "# select and rename columns\n",
    "pearson = pearson[[\"Epoch\", \"UNet_Late_Fusion_ultrasound - Pearson/Val\", \"UNet_Mid_Fusion_ultrasound - Pearson/Val\", \"UNet_no_ultrasound - Pearson/Val\", \"FCNN_Late_Fusion_ultrasound - Pearson/Val\", \"FCNN_Mid_Fusion_ultrasound - Pearson/Val\", \"FCNN_no_ultrasound - Pearson/Val\"]]\n",
    "pearson = pearson.rename(columns={\"UNet_Late_Fusion_ultrasound - Pearson/Val\": \"UNet Late Fusion Pearson\", \"UNet_Mid_Fusion_ultrasound - Pearson/Val\": \"UNet Mid Fusion Pearson\", \"UNet_no_ultrasound - Pearson/Val\": \"UNet Pearson\", \"FCNN_Late_Fusion_ultrasound - Pearson/Val\": \"FCNN Late Fusion Pearson\", \"FCNN_Mid_Fusion_ultrasound - Pearson/Val\": \"FCNN Mid Fusion Pearson\", \"FCNN_no_ultrasound - Pearson/Val\": \"FCNN Pearson\"})"
   ]
  },
  {
   "cell_type": "code",
   "execution_count": null,
   "metadata": {},
   "outputs": [],
   "source": [
    "# plot unet pearson coefficient\n",
    "fig, ax = plt.subplots(figsize=(12, 6))\n",
    "pearson.plot(x=\"Epoch\", y=[\"UNet Late Fusion Pearson\", \"UNet Mid Fusion Pearson\", \"UNet Pearson\"], ax=ax)\n",
    "ax.set_xlabel(\"Epochs\")\n",
    "ax.set_ylabel(\"Epoch's Pearson coefficient\")\n",
    "plt.title(\"UNet - Validation Pearson coefficient over Epochs\")\n",
    "plt.grid()\n",
    "plt.rcParams.update({'font.size': 10})"
   ]
  },
  {
   "cell_type": "code",
   "execution_count": null,
   "metadata": {},
   "outputs": [],
   "source": [
    "# plot FCNN pearson coefficient\n",
    "fig, ax = plt.subplots(figsize=(12, 6))\n",
    "pearson.plot(x=\"Epoch\", y=[\"FCNN Late Fusion Pearson\", \"FCNN Mid Fusion Pearson\", \"FCNN Pearson\"], ax=ax)\n",
    "ax.set_xlabel(\"Epochs\")\n",
    "ax.set_ylabel(\"Epoch's Pearson coefficient\")\n",
    "plt.title(\"FCNN - Validation Pearson coefficient over Epochs\")\n",
    "plt.grid()\n",
    "plt.rcParams.update({'font.size': 10})"
   ]
  },
  {
   "cell_type": "markdown",
   "metadata": {},
   "source": [
    "## $R^2$ COEFFICIENT ON VALIDATION SET"
   ]
  },
  {
   "cell_type": "code",
   "execution_count": 18,
   "metadata": {},
   "outputs": [],
   "source": [
    "# load data\n",
    "r2 = pd.read_csv('data/r2.csv')"
   ]
  },
  {
   "cell_type": "code",
   "execution_count": null,
   "metadata": {},
   "outputs": [],
   "source": [
    "# select and rename columns\n",
    "r2 = r2[[\"Epoch\", \"UNet_Late_Fusion_ultrasound - R2/Val\", \"UNet_Mid_Fusion_ultrasound - R2/Val\", \"UNet_no_ultrasound - R2/Val\", \"FCNN_Late_Fusion_ultrasound - R2/Val\", \"FCNN_Mid_Fusion_ultrasound - R2/Val\", \"FCNN_no_ultrasound - R2/Val\"]]\n",
    "r2 = r2.rename(columns={\"UNet_Late_Fusion_ultrasound - R2/Val\": \"UNet Late Fusion R2\", \"UNet_Mid_Fusion_ultrasound - R2/Val\": \"UNet Mid Fusion R2\", \"UNet_no_ultrasound - R2/Val\": \"UNet R2\", \"FCNN_Late_Fusion_ultrasound - R2/Val\": \"FCNN Late Fusion R2\", \"FCNN_Mid_Fusion_ultrasound - R2/Val\": \"FCNN Mid Fusion R2\", \"FCNN_no_ultrasound - R2/Val\": \"FCNN R2\"})"
   ]
  },
  {
   "cell_type": "code",
   "execution_count": null,
   "metadata": {},
   "outputs": [],
   "source": [
    "# plot unet r2 coefficient\n",
    "fig, ax = plt.subplots(figsize=(12, 6))\n",
    "r2.plot(x=\"Epoch\", y=[\"UNet Late Fusion R2\", \"UNet Mid Fusion R2\", \"UNet R2\"], ax=ax)\n",
    "ax.set_xlabel(\"Epochs\")\n",
    "ax.set_ylabel(\"Epoch's R^2 coefficient\")\n",
    "plt.title(\"UNet - Validation R^2 coefficient over Epochs\")\n",
    "plt.grid()\n",
    "plt.ylim(-1, 1)\n",
    "plt.rcParams.update({'font.size': 10})"
   ]
  },
  {
   "cell_type": "code",
   "execution_count": null,
   "metadata": {},
   "outputs": [],
   "source": [
    "# plot FCNN r2 coefficient\n",
    "fig, ax = plt.subplots(figsize=(12, 6))\n",
    "r2.plot(x=\"Epoch\", y=[\"FCNN Late Fusion R2\", \"FCNN Mid Fusion R2\", \"FCNN R2\"], ax=ax)\n",
    "ax.set_xlabel(\"Epochs\")\n",
    "ax.set_ylabel(\"Epoch's R^2 coefficient\")\n",
    "plt.title(\"FCNN - Validation R^2 coefficient over Epochs\")\n",
    "plt.grid()\n",
    "plt.ylim(-1, 1)\n",
    "plt.rcParams.update({'font.size': 10})"
   ]
  },
  {
   "cell_type": "markdown",
   "metadata": {},
   "source": [
    "## IMAV ACCURACY ON VALIDATION SET"
   ]
  },
  {
   "cell_type": "code",
   "execution_count": 48,
   "metadata": {},
   "outputs": [],
   "source": [
    "# load data\n",
    "acc_val = pd.read_csv(\"data/imav_acc_val.csv\")"
   ]
  },
  {
   "cell_type": "code",
   "execution_count": 49,
   "metadata": {},
   "outputs": [],
   "source": [
    "# select and rename columns\n",
    "acc_val = acc_val[[\"Epoch\", \"IMAV_no_ultrasound - Acc/Val\", \"IMAV_Late_Fusion_ultrasound - Acc/Val\", \"IMAV_Mid_Fusion_ultrasound - Acc/Val\"]]\n",
    "acc_val = acc_val.rename(columns={\"IMAV_no_ultrasound - Acc/Val\": \"Validation Accuracy without ultrasound\", \"IMAV_Late_Fusion_ultrasound - Acc/Val\": \"Validation Accuracy Late Fusion\", \"IMAV_Mid_Fusion_ultrasound - Acc/Val\": \"Validation Accuracy Mid Fusion\"})"
   ]
  },
  {
   "cell_type": "code",
   "execution_count": 50,
   "metadata": {},
   "outputs": [],
   "source": [
    "# normalize validation accuracy values\n",
    "acc_val[\"Validation Accuracy without ultrasound\"] = acc_val[\"Validation Accuracy without ultrasound\"] / 100\n",
    "acc_val[\"Validation Accuracy Late Fusion\"] = acc_val[\"Validation Accuracy Late Fusion\"] / 100\n",
    "acc_val[\"Validation Accuracy Mid Fusion\"] = acc_val[\"Validation Accuracy Mid Fusion\"] / 100"
   ]
  },
  {
   "cell_type": "code",
   "execution_count": null,
   "metadata": {},
   "outputs": [],
   "source": [
    "# plot IMAV validation accuracy\n",
    "fig, ax = plt.subplots(figsize=(12, 6))\n",
    "acc_val.plot(x=\"Epoch\", y=[\"Validation Accuracy without ultrasound\", \"Validation Accuracy Late Fusion\", \"Validation Accuracy Mid Fusion\"], ax=ax)\n",
    "plt.legend(loc=\"lower right\")\n",
    "ax.set_xlabel(\"Epochs\")\n",
    "ax.set_ylabel(\"Mean Epoch's Accuracy\")\n",
    "plt.title(\"IMAV Accuracy\")\n",
    "plt.grid()\n",
    "plt.ylim(0.5, 1)\n",
    "plt.rcParams.update({'font.size': 10})"
   ]
  },
  {
   "cell_type": "code",
   "execution_count": null,
   "metadata": {},
   "outputs": [],
   "source": []
  }
 ],
 "metadata": {
  "kernelspec": {
   "display_name": "models",
   "language": "python",
   "name": "python3"
  },
  "language_info": {
   "codemirror_mode": {
    "name": "ipython",
    "version": 3
   },
   "file_extension": ".py",
   "mimetype": "text/x-python",
   "name": "python",
   "nbconvert_exporter": "python",
   "pygments_lexer": "ipython3",
   "version": "3.12.1"
  }
 },
 "nbformat": 4,
 "nbformat_minor": 2
}
